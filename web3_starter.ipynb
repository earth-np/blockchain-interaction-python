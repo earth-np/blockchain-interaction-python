{
  "nbformat": 4,
  "nbformat_minor": 0,
  "metadata": {
    "colab": {
      "provenance": [],
      "authorship_tag": "ABX9TyOccB5Zn4KPNAXGPcwNRlI3",
      "include_colab_link": true
    },
    "kernelspec": {
      "name": "python3",
      "display_name": "Python 3"
    },
    "language_info": {
      "name": "python"
    }
  },
  "cells": [
    {
      "cell_type": "markdown",
      "metadata": {
        "id": "view-in-github",
        "colab_type": "text"
      },
      "source": [
        "<a href=\"https://colab.research.google.com/github/earth-np/blockchain-interaction-python/blob/main/web3_starter.ipynb\" target=\"_parent\"><img src=\"https://colab.research.google.com/assets/colab-badge.svg\" alt=\"Open In Colab\"/></a>"
      ]
    },
    {
      "cell_type": "code",
      "execution_count": 1,
      "metadata": {
        "colab": {
          "base_uri": "https://localhost:8080/"
        },
        "collapsed": true,
        "id": "niTZdXMusFHK",
        "outputId": "56a9617e-98cd-4f55-ae57-57c9633eac71"
      },
      "outputs": [
        {
          "output_type": "stream",
          "name": "stdout",
          "text": [
            "Collecting web3\n",
            "  Downloading web3-6.20.0-py3-none-any.whl (1.6 MB)\n",
            "\u001b[2K     \u001b[90m━━━━━━━━━━━━━━━━━━━━━━━━━━━━━━━━━━━━━━━━\u001b[0m \u001b[32m1.6/1.6 MB\u001b[0m \u001b[31m14.2 MB/s\u001b[0m eta \u001b[36m0:00:00\u001b[0m\n",
            "\u001b[?25hRequirement already satisfied: aiohttp>=3.7.4.post0 in /usr/local/lib/python3.10/dist-packages (from web3) (3.9.5)\n",
            "Collecting eth-abi>=4.0.0 (from web3)\n",
            "  Downloading eth_abi-5.1.0-py3-none-any.whl (29 kB)\n",
            "Collecting eth-account<0.13,>=0.8.0 (from web3)\n",
            "  Downloading eth_account-0.12.3-py3-none-any.whl (355 kB)\n",
            "\u001b[2K     \u001b[90m━━━━━━━━━━━━━━━━━━━━━━━━━━━━━━━━━━━━━━━━\u001b[0m \u001b[32m356.0/356.0 kB\u001b[0m \u001b[31m19.6 MB/s\u001b[0m eta \u001b[36m0:00:00\u001b[0m\n",
            "\u001b[?25hCollecting eth-hash[pycryptodome]>=0.5.1 (from web3)\n",
            "  Downloading eth_hash-0.7.0-py3-none-any.whl (8.7 kB)\n",
            "Collecting eth-typing!=4.2.0,>=3.0.0 (from web3)\n",
            "  Downloading eth_typing-4.3.1-py3-none-any.whl (19 kB)\n",
            "Collecting eth-utils>=2.1.0 (from web3)\n",
            "  Downloading eth_utils-4.1.1-py3-none-any.whl (96 kB)\n",
            "\u001b[2K     \u001b[90m━━━━━━━━━━━━━━━━━━━━━━━━━━━━━━━━━━━━━━━━\u001b[0m \u001b[32m96.0/96.0 kB\u001b[0m \u001b[31m7.8 MB/s\u001b[0m eta \u001b[36m0:00:00\u001b[0m\n",
            "\u001b[?25hCollecting hexbytes<0.4.0,>=0.1.0 (from web3)\n",
            "  Downloading hexbytes-0.3.1-py3-none-any.whl (5.9 kB)\n",
            "Requirement already satisfied: jsonschema>=4.0.0 in /usr/local/lib/python3.10/dist-packages (from web3) (4.19.2)\n",
            "Collecting lru-dict<1.3.0,>=1.1.6 (from web3)\n",
            "  Downloading lru_dict-1.2.0-cp310-cp310-manylinux_2_5_x86_64.manylinux1_x86_64.manylinux_2_17_x86_64.manylinux2014_x86_64.whl (28 kB)\n",
            "Collecting protobuf>=4.21.6 (from web3)\n",
            "  Downloading protobuf-5.27.2-cp38-abi3-manylinux2014_x86_64.whl (309 kB)\n",
            "\u001b[2K     \u001b[90m━━━━━━━━━━━━━━━━━━━━━━━━━━━━━━━━━━━━━━━━\u001b[0m \u001b[32m309.3/309.3 kB\u001b[0m \u001b[31m9.8 MB/s\u001b[0m eta \u001b[36m0:00:00\u001b[0m\n",
            "\u001b[?25hRequirement already satisfied: requests>=2.16.0 in /usr/local/lib/python3.10/dist-packages (from web3) (2.31.0)\n",
            "Requirement already satisfied: typing-extensions>=4.0.1 in /usr/local/lib/python3.10/dist-packages (from web3) (4.12.2)\n",
            "Collecting websockets>=10.0.0 (from web3)\n",
            "  Downloading websockets-12.0-cp310-cp310-manylinux_2_5_x86_64.manylinux1_x86_64.manylinux_2_17_x86_64.manylinux2014_x86_64.whl (130 kB)\n",
            "\u001b[2K     \u001b[90m━━━━━━━━━━━━━━━━━━━━━━━━━━━━━━━━━━━━━━━━\u001b[0m \u001b[32m130.2/130.2 kB\u001b[0m \u001b[31m9.5 MB/s\u001b[0m eta \u001b[36m0:00:00\u001b[0m\n",
            "\u001b[?25hCollecting pyunormalize>=15.0.0 (from web3)\n",
            "  Downloading pyunormalize-15.1.0.tar.gz (515 kB)\n",
            "\u001b[2K     \u001b[90m━━━━━━━━━━━━━━━━━━━━━━━━━━━━━━━━━━━━━━━━\u001b[0m \u001b[32m515.5/515.5 kB\u001b[0m \u001b[31m40.5 MB/s\u001b[0m eta \u001b[36m0:00:00\u001b[0m\n",
            "\u001b[?25h  Preparing metadata (setup.py) ... \u001b[?25l\u001b[?25hdone\n",
            "Requirement already satisfied: aiosignal>=1.1.2 in /usr/local/lib/python3.10/dist-packages (from aiohttp>=3.7.4.post0->web3) (1.3.1)\n",
            "Requirement already satisfied: attrs>=17.3.0 in /usr/local/lib/python3.10/dist-packages (from aiohttp>=3.7.4.post0->web3) (23.2.0)\n",
            "Requirement already satisfied: frozenlist>=1.1.1 in /usr/local/lib/python3.10/dist-packages (from aiohttp>=3.7.4.post0->web3) (1.4.1)\n",
            "Requirement already satisfied: multidict<7.0,>=4.5 in /usr/local/lib/python3.10/dist-packages (from aiohttp>=3.7.4.post0->web3) (6.0.5)\n",
            "Requirement already satisfied: yarl<2.0,>=1.0 in /usr/local/lib/python3.10/dist-packages (from aiohttp>=3.7.4.post0->web3) (1.9.4)\n",
            "Requirement already satisfied: async-timeout<5.0,>=4.0 in /usr/local/lib/python3.10/dist-packages (from aiohttp>=3.7.4.post0->web3) (4.0.3)\n",
            "Collecting parsimonious<0.11.0,>=0.10.0 (from eth-abi>=4.0.0->web3)\n",
            "  Downloading parsimonious-0.10.0-py3-none-any.whl (48 kB)\n",
            "\u001b[2K     \u001b[90m━━━━━━━━━━━━━━━━━━━━━━━━━━━━━━━━━━━━━━━━\u001b[0m \u001b[32m48.4/48.4 kB\u001b[0m \u001b[31m5.8 MB/s\u001b[0m eta \u001b[36m0:00:00\u001b[0m\n",
            "\u001b[?25hCollecting bitarray>=2.4.0 (from eth-account<0.13,>=0.8.0->web3)\n",
            "  Downloading bitarray-2.9.2-cp310-cp310-manylinux_2_17_x86_64.manylinux2014_x86_64.whl (288 kB)\n",
            "\u001b[2K     \u001b[90m━━━━━━━━━━━━━━━━━━━━━━━━━━━━━━━━━━━━━━━━\u001b[0m \u001b[32m288.3/288.3 kB\u001b[0m \u001b[31m6.4 MB/s\u001b[0m eta \u001b[36m0:00:00\u001b[0m\n",
            "\u001b[?25hCollecting eth-keyfile>=0.6.0 (from eth-account<0.13,>=0.8.0->web3)\n",
            "  Downloading eth_keyfile-0.8.1-py3-none-any.whl (7.5 kB)\n",
            "Collecting eth-keys>=0.4.0 (from eth-account<0.13,>=0.8.0->web3)\n",
            "  Downloading eth_keys-0.5.1-py3-none-any.whl (21 kB)\n",
            "Collecting eth-rlp>=2.1.0 (from eth-account<0.13,>=0.8.0->web3)\n",
            "  Downloading eth_rlp-2.1.0-py3-none-any.whl (5.1 kB)\n",
            "INFO: pip is looking at multiple versions of eth-account to determine which version is compatible with other requirements. This could take a while.\n",
            "Collecting eth-account<0.13,>=0.8.0 (from web3)\n",
            "  Downloading eth_account-0.12.2-py3-none-any.whl (355 kB)\n",
            "\u001b[2K     \u001b[90m━━━━━━━━━━━━━━━━━━━━━━━━━━━━━━━━━━━━━━━━\u001b[0m \u001b[32m355.7/355.7 kB\u001b[0m \u001b[31m19.6 MB/s\u001b[0m eta \u001b[36m0:00:00\u001b[0m\n",
            "\u001b[?25h  Downloading eth_account-0.12.1-py3-none-any.whl (355 kB)\n",
            "\u001b[2K     \u001b[90m━━━━━━━━━━━━━━━━━━━━━━━━━━━━━━━━━━━━━━━━\u001b[0m \u001b[32m355.1/355.1 kB\u001b[0m \u001b[31m21.1 MB/s\u001b[0m eta \u001b[36m0:00:00\u001b[0m\n",
            "\u001b[?25h  Downloading eth_account-0.12.0-py3-none-any.whl (354 kB)\n",
            "\u001b[2K     \u001b[90m━━━━━━━━━━━━━━━━━━━━━━━━━━━━━━━━━━━━━━━━\u001b[0m \u001b[32m354.9/354.9 kB\u001b[0m \u001b[31m23.9 MB/s\u001b[0m eta \u001b[36m0:00:00\u001b[0m\n",
            "\u001b[?25h  Downloading eth_account-0.11.2-py3-none-any.whl (355 kB)\n",
            "\u001b[2K     \u001b[90m━━━━━━━━━━━━━━━━━━━━━━━━━━━━━━━━━━━━━━━━\u001b[0m \u001b[32m355.4/355.4 kB\u001b[0m \u001b[31m23.2 MB/s\u001b[0m eta \u001b[36m0:00:00\u001b[0m\n",
            "\u001b[?25hCollecting rlp>=1.0.0 (from eth-account<0.13,>=0.8.0->web3)\n",
            "  Downloading rlp-4.0.1-py3-none-any.whl (20 kB)\n",
            "Collecting ckzg>=0.4.3 (from eth-account<0.13,>=0.8.0->web3)\n",
            "  Downloading ckzg-1.0.2-cp310-cp310-manylinux_2_17_x86_64.manylinux2014_x86_64.whl (139 kB)\n",
            "\u001b[2K     \u001b[90m━━━━━━━━━━━━━━━━━━━━━━━━━━━━━━━━━━━━━━━━\u001b[0m \u001b[32m139.8/139.8 kB\u001b[0m \u001b[31m12.5 MB/s\u001b[0m eta \u001b[36m0:00:00\u001b[0m\n",
            "\u001b[?25hCollecting pycryptodome<4,>=3.6.6 (from eth-hash[pycryptodome]>=0.5.1->web3)\n",
            "  Downloading pycryptodome-3.20.0-cp35-abi3-manylinux_2_17_x86_64.manylinux2014_x86_64.whl (2.1 MB)\n",
            "\u001b[2K     \u001b[90m━━━━━━━━━━━━━━━━━━━━━━━━━━━━━━━━━━━━━━━━\u001b[0m \u001b[32m2.1/2.1 MB\u001b[0m \u001b[31m40.2 MB/s\u001b[0m eta \u001b[36m0:00:00\u001b[0m\n",
            "\u001b[?25hCollecting cytoolz>=0.10.1 (from eth-utils>=2.1.0->web3)\n",
            "  Downloading cytoolz-0.12.3-cp310-cp310-manylinux_2_17_x86_64.manylinux2014_x86_64.whl (2.0 MB)\n",
            "\u001b[2K     \u001b[90m━━━━━━━━━━━━━━━━━━━━━━━━━━━━━━━━━━━━━━━━\u001b[0m \u001b[32m2.0/2.0 MB\u001b[0m \u001b[31m48.4 MB/s\u001b[0m eta \u001b[36m0:00:00\u001b[0m\n",
            "\u001b[?25hRequirement already satisfied: jsonschema-specifications>=2023.03.6 in /usr/local/lib/python3.10/dist-packages (from jsonschema>=4.0.0->web3) (2023.12.1)\n",
            "Requirement already satisfied: referencing>=0.28.4 in /usr/local/lib/python3.10/dist-packages (from jsonschema>=4.0.0->web3) (0.35.1)\n",
            "Requirement already satisfied: rpds-py>=0.7.1 in /usr/local/lib/python3.10/dist-packages (from jsonschema>=4.0.0->web3) (0.18.1)\n",
            "Requirement already satisfied: charset-normalizer<4,>=2 in /usr/local/lib/python3.10/dist-packages (from requests>=2.16.0->web3) (3.3.2)\n",
            "Requirement already satisfied: idna<4,>=2.5 in /usr/local/lib/python3.10/dist-packages (from requests>=2.16.0->web3) (3.7)\n",
            "Requirement already satisfied: urllib3<3,>=1.21.1 in /usr/local/lib/python3.10/dist-packages (from requests>=2.16.0->web3) (2.0.7)\n",
            "Requirement already satisfied: certifi>=2017.4.17 in /usr/local/lib/python3.10/dist-packages (from requests>=2.16.0->web3) (2024.6.2)\n",
            "Requirement already satisfied: toolz>=0.8.0 in /usr/local/lib/python3.10/dist-packages (from cytoolz>=0.10.1->eth-utils>=2.1.0->web3) (0.12.1)\n",
            "INFO: pip is looking at multiple versions of eth-rlp to determine which version is compatible with other requirements. This could take a while.\n",
            "Collecting eth-rlp>=0.3.0 (from eth-account<0.13,>=0.8.0->web3)\n",
            "  Downloading eth_rlp-2.0.0-py3-none-any.whl (5.1 kB)\n",
            "  Downloading eth_rlp-1.0.1-py3-none-any.whl (4.9 kB)\n",
            "Requirement already satisfied: regex>=2022.3.15 in /usr/local/lib/python3.10/dist-packages (from parsimonious<0.11.0,>=0.10.0->eth-abi>=4.0.0->web3) (2024.5.15)\n",
            "Building wheels for collected packages: pyunormalize\n",
            "  Building wheel for pyunormalize (setup.py) ... \u001b[?25l\u001b[?25hdone\n",
            "  Created wheel for pyunormalize: filename=pyunormalize-15.1.0-py3-none-any.whl size=516032 sha256=1b8549b5cdfa007aeae54ab1c95b4fe6a3d252b8f09ac5fa01670236520e3ba4\n",
            "  Stored in directory: /root/.cache/pip/wheels/b8/b6/c6/6fc11f58d3fd02f387cf3b18479bb5c6d4143995d0fa401622\n",
            "Successfully built pyunormalize\n",
            "Installing collected packages: lru-dict, ckzg, bitarray, websockets, pyunormalize, pycryptodome, protobuf, parsimonious, hexbytes, eth-typing, eth-hash, cytoolz, eth-utils, rlp, eth-keys, eth-abi, eth-rlp, eth-keyfile, eth-account, web3\n",
            "  Attempting uninstall: protobuf\n",
            "    Found existing installation: protobuf 3.20.3\n",
            "    Uninstalling protobuf-3.20.3:\n",
            "      Successfully uninstalled protobuf-3.20.3\n",
            "\u001b[31mERROR: pip's dependency resolver does not currently take into account all the packages that are installed. This behaviour is the source of the following dependency conflicts.\n",
            "cudf-cu12 24.4.1 requires protobuf<5,>=3.20, but you have protobuf 5.27.2 which is incompatible.\n",
            "google-ai-generativelanguage 0.6.4 requires protobuf!=3.20.0,!=3.20.1,!=4.21.0,!=4.21.1,!=4.21.2,!=4.21.3,!=4.21.4,!=4.21.5,<5.0.0dev,>=3.19.5, but you have protobuf 5.27.2 which is incompatible.\n",
            "google-api-core 2.16.2 requires protobuf!=3.20.0,!=3.20.1,!=4.21.0,!=4.21.1,!=4.21.2,!=4.21.3,!=4.21.4,!=4.21.5,<5.0.0.dev0,>=3.19.5, but you have protobuf 5.27.2 which is incompatible.\n",
            "google-cloud-aiplatform 1.57.0 requires protobuf!=3.20.0,!=3.20.1,!=4.21.0,!=4.21.1,!=4.21.2,!=4.21.3,!=4.21.4,!=4.21.5,<5.0.0dev,>=3.19.5, but you have protobuf 5.27.2 which is incompatible.\n",
            "google-cloud-bigquery-connection 1.12.1 requires protobuf!=3.20.0,!=3.20.1,!=4.21.0,!=4.21.1,!=4.21.2,!=4.21.3,!=4.21.4,!=4.21.5,<5.0.0dev,>=3.19.5, but you have protobuf 5.27.2 which is incompatible.\n",
            "google-cloud-bigquery-storage 2.25.0 requires protobuf!=3.20.0,!=3.20.1,!=4.21.0,!=4.21.1,!=4.21.2,!=4.21.3,!=4.21.4,!=4.21.5,<5.0.0dev,>=3.19.5, but you have protobuf 5.27.2 which is incompatible.\n",
            "google-cloud-bigtable 2.24.0 requires protobuf!=3.20.0,!=3.20.1,!=4.21.0,!=4.21.1,!=4.21.2,!=4.21.3,!=4.21.4,!=4.21.5,<5.0.0dev,>=3.19.5, but you have protobuf 5.27.2 which is incompatible.\n",
            "google-cloud-datastore 2.15.2 requires protobuf!=3.20.0,!=3.20.1,!=4.21.0,!=4.21.1,!=4.21.2,!=4.21.3,!=4.21.4,!=4.21.5,<5.0.0dev,>=3.19.5, but you have protobuf 5.27.2 which is incompatible.\n",
            "google-cloud-firestore 2.11.1 requires protobuf!=3.20.0,!=3.20.1,!=4.21.0,!=4.21.1,!=4.21.2,!=4.21.3,!=4.21.4,!=4.21.5,<5.0.0dev,>=3.19.5, but you have protobuf 5.27.2 which is incompatible.\n",
            "google-cloud-functions 1.13.3 requires protobuf!=3.20.0,!=3.20.1,!=4.21.0,!=4.21.1,!=4.21.2,!=4.21.3,!=4.21.4,!=4.21.5,<5.0.0dev,>=3.19.5, but you have protobuf 5.27.2 which is incompatible.\n",
            "google-cloud-iam 2.15.0 requires protobuf!=3.20.0,!=3.20.1,!=4.21.0,!=4.21.1,!=4.21.2,!=4.21.3,!=4.21.4,!=4.21.5,<5.0.0dev,>=3.19.5, but you have protobuf 5.27.2 which is incompatible.\n",
            "google-cloud-language 2.13.3 requires protobuf!=3.20.0,!=3.20.1,!=4.21.0,!=4.21.1,!=4.21.2,!=4.21.3,!=4.21.4,!=4.21.5,<5.0.0dev,>=3.19.5, but you have protobuf 5.27.2 which is incompatible.\n",
            "google-cloud-resource-manager 1.12.3 requires protobuf!=3.20.0,!=3.20.1,!=4.21.0,!=4.21.1,!=4.21.2,!=4.21.3,!=4.21.4,!=4.21.5,<5.0.0dev,>=3.19.5, but you have protobuf 5.27.2 which is incompatible.\n",
            "google-cloud-translate 3.11.3 requires protobuf!=3.20.0,!=3.20.1,!=4.21.0,!=4.21.1,!=4.21.2,!=4.21.3,!=4.21.4,!=4.21.5,<5.0.0dev,>=3.19.5, but you have protobuf 5.27.2 which is incompatible.\n",
            "tensorflow 2.15.0 requires protobuf!=4.21.0,!=4.21.1,!=4.21.2,!=4.21.3,!=4.21.4,!=4.21.5,<5.0.0dev,>=3.20.3, but you have protobuf 5.27.2 which is incompatible.\n",
            "tensorflow-metadata 1.15.0 requires protobuf<4.21,>=3.20.3; python_version < \"3.11\", but you have protobuf 5.27.2 which is incompatible.\u001b[0m\u001b[31m\n",
            "\u001b[0mSuccessfully installed bitarray-2.9.2 ckzg-1.0.2 cytoolz-0.12.3 eth-abi-5.1.0 eth-account-0.11.2 eth-hash-0.7.0 eth-keyfile-0.8.1 eth-keys-0.5.1 eth-rlp-1.0.1 eth-typing-4.3.1 eth-utils-4.1.1 hexbytes-0.3.1 lru-dict-1.2.0 parsimonious-0.10.0 protobuf-5.27.2 pycryptodome-3.20.0 pyunormalize-15.1.0 rlp-4.0.1 web3-6.20.0 websockets-12.0\n"
          ]
        }
      ],
      "source": [
        "# prompt: read contract with multicall\n",
        "\n",
        "from eth_abi import encode_abi\n",
        "from web3 import Web3\n",
        "\n",
        "def read_contract_with_multicall(contract_address, function_name, abi, multicall_address, web3):\n",
        "    \"\"\"\n",
        "    Reads data from a contract using the multicall functionality.\n",
        "\n",
        "    Args:\n",
        "        contract_address (str): Address of the contract to read from.\n",
        "        function_name (str): Name of the function to call.\n",
        "        abi (list): ABI of the contract.\n",
        "        multicall_address (str): Address of the multicall contract.\n",
        "        web3 (Web3): Web3 instance.\n",
        "\n",
        "    Returns:\n",
        "        Any: The return value of the function call.\n",
        "    \"\"\"\n",
        "\n",
        "    # Encode the function call\n",
        "    encoded_function_call = encode_abi(\n",
        "        [function_name],\n",
        "        []\n",
        "    )\n",
        "\n",
        "    # Create the multicall data\n",
        "    multicall_data = web3.eth.abi.encode_abi(\n",
        "        [\n",
        "            {\n",
        "                \"target\": contract_address,\n",
        "                \"callData\": encoded_function_call,\n",
        "            }\n",
        "        ],\n",
        "        [\"bool\", \"uint256\"]\n",
        "    )\n",
        "\n",
        "    # Call the multicall contract\n",
        "    result = web3.eth.call(\n",
        "        {\n",
        "            \"to\": multicall_address,\n",
        "            \"data\": multicall_data,\n",
        "        }\n",
        "    )\n",
        "\n",
        "    # Decode the result\n",
        "    decoded_result = web3.eth.abi.decode_abi(\n",
        "        [\"bool\", \"uint256\"],\n",
        "        result\n",
        "    )\n",
        "\n",
        "    # Return the function call result\n",
        "    return decoded_result[1]\n"
      ]
    },
    {
      "cell_type": "code",
      "source": [],
      "metadata": {
        "id": "Q0ZdPr8e3M3q"
      },
      "execution_count": null,
      "outputs": []
    },
    {
      "cell_type": "code",
      "source": [
        "# prompt: web3 starter\n",
        "\n",
        "!pip install web3\n"
      ],
      "metadata": {
        "id": "2gjBzXgku_Bw"
      },
      "execution_count": null,
      "outputs": []
    },
    {
      "cell_type": "code",
      "source": [
        "from web3 import Web3"
      ],
      "metadata": {
        "id": "uVp4VEb2yQDw"
      },
      "execution_count": 23,
      "outputs": []
    },
    {
      "cell_type": "code",
      "source": [
        "# Connect to the Ethereum network\n",
        "w3 = Web3(Web3.HTTPProvider('https://sepolia.base.org'))\n"
      ],
      "metadata": {
        "id": "vYAq1aRGsYbZ"
      },
      "execution_count": 33,
      "outputs": []
    },
    {
      "cell_type": "code",
      "source": [
        "# config\n",
        "focus_address = \"0xD4d349C87906dF5e42e33f8f6c4dABfe247af0Cf\"\n",
        "erc20_address = \"0xD4fA4dE9D8F8DB39EAf4de9A19bF6910F6B5bD60\"\n",
        "\n"
      ],
      "metadata": {
        "id": "37M02uNV14N_"
      },
      "execution_count": 41,
      "outputs": []
    },
    {
      "cell_type": "code",
      "source": [
        "# create new fresh wallet\n",
        "created_wallet = w3.eth.account.create()\n",
        "print(created_wallet.address)\n",
        "private_key = w3.to_hex(created_wallet.key)\n",
        "print(created_wallet.key)\n",
        "print(private_key)"
      ],
      "metadata": {
        "colab": {
          "base_uri": "https://localhost:8080/"
        },
        "id": "PrexBEoyz83J",
        "outputId": "e715b811-2620-4386-cadc-22475d3bb687"
      },
      "execution_count": 32,
      "outputs": [
        {
          "output_type": "stream",
          "name": "stdout",
          "text": [
            "0xf1A4A00d7809D0A2121CCB989f13a7BEbc9b980D\n",
            "b'\\xbf\\xb8\\xe0\\x08\\xc9\\x01\\xccfyk\\xa5\\xa1\\xb7\\xcfo\\xe2@\\x9e\\xe16?\\x95\\xaa\\xdd\\xd8b\\xb3^Y\\x1f\\x10\\x94'\n",
            "0xbfb8e008c901cc66796ba5a1b7cf6fe2409ee1363f95aaddd862b35e591f1094\n"
          ]
        }
      ]
    },
    {
      "cell_type": "code",
      "source": [
        "# import from private key\n",
        "imported_wallet = w3.eth.account.from_key(private_key)\n",
        "print(imported_wallet.address)"
      ],
      "metadata": {
        "colab": {
          "base_uri": "https://localhost:8080/"
        },
        "id": "P0vr3FST1HxI",
        "outputId": "a55a55be-be1e-4672-b501-6406df1ff603"
      },
      "execution_count": 37,
      "outputs": [
        {
          "output_type": "stream",
          "name": "stdout",
          "text": [
            "0xf1A4A00d7809D0A2121CCB989f13a7BEbc9b980D\n"
          ]
        }
      ]
    },
    {
      "cell_type": "code",
      "source": [
        "# Get the balance of an address\n",
        "address = focus_address\n",
        "balance = w3.eth.get_balance(address)\n",
        "\n",
        "# Print the balance\n",
        "print(f'The balance of address {address} is {balance} wei')"
      ],
      "metadata": {
        "colab": {
          "base_uri": "https://localhost:8080/"
        },
        "id": "xYIIyvE40-HB",
        "outputId": "d18f899b-db10-421e-a666-85917839b794"
      },
      "execution_count": 39,
      "outputs": [
        {
          "output_type": "stream",
          "name": "stdout",
          "text": [
            "The balance of address 0xD4d349C87906dF5e42e33f8f6c4dABfe247af0Cf is 50000000000000000 wei\n"
          ]
        }
      ]
    },
    {
      "cell_type": "code",
      "source": [
        "# prompt: format ether balance to readable\n",
        "\n",
        "def format_ether_balance(balance):\n",
        "    \"\"\"\n",
        "    Converts a balance in wei to a human-readable string.\n",
        "\n",
        "    Args:\n",
        "        balance: The balance in wei.\n",
        "\n",
        "    Returns:\n",
        "        A human-readable string representing the balance.\n",
        "    \"\"\"\n",
        "\n",
        "    # Convert wei to ether\n",
        "    ether_balance = balance / 10**18\n",
        "\n",
        "    # Format the ether balance to two decimal places\n",
        "    formatted_balance = \"{:.2f}\".format(ether_balance)\n",
        "\n",
        "    return formatted_balance"
      ],
      "metadata": {
        "id": "5i8D8wuiutZx"
      },
      "execution_count": 16,
      "outputs": []
    },
    {
      "cell_type": "code",
      "source": [
        "print(f'The balance of address {address} is {format_ether_balance(balance)} eth')"
      ],
      "metadata": {
        "colab": {
          "base_uri": "https://localhost:8080/"
        },
        "id": "RdtKNlfIvIgW",
        "outputId": "92abf947-9706-4325-ab56-f609c8c4d692"
      },
      "execution_count": 40,
      "outputs": [
        {
          "output_type": "stream",
          "name": "stdout",
          "text": [
            "The balance of address 0xD4d349C87906dF5e42e33f8f6c4dABfe247af0Cf is 0.05 eth\n"
          ]
        }
      ]
    },
    {
      "cell_type": "code",
      "source": [
        "import json\n",
        "\n",
        "# Define the JSON string\n",
        "json_string = \"\"\"\n",
        "[\n",
        "  {\n",
        "    \"constant\": true,\n",
        "    \"inputs\": [],\n",
        "    \"name\": \"name\",\n",
        "    \"outputs\": [\n",
        "      {\n",
        "        \"name\": \"\",\n",
        "        \"type\": \"string\"\n",
        "      }\n",
        "    ],\n",
        "    \"payable\": false,\n",
        "    \"stateMutability\": \"view\",\n",
        "    \"type\": \"function\"\n",
        "  },\n",
        "  {\n",
        "    \"constant\": false,\n",
        "    \"inputs\": [\n",
        "      {\n",
        "        \"name\": \"_spender\",\n",
        "        \"type\": \"address\"\n",
        "      },\n",
        "      {\n",
        "        \"name\": \"_value\",\n",
        "        \"type\": \"uint256\"\n",
        "      }\n",
        "    ],\n",
        "    \"name\": \"approve\",\n",
        "    \"outputs\": [\n",
        "      {\n",
        "        \"name\": \"\",\n",
        "        \"type\": \"bool\"\n",
        "      }\n",
        "    ],\n",
        "    \"payable\": false,\n",
        "    \"stateMutability\": \"nonpayable\",\n",
        "    \"type\": \"function\"\n",
        "  },\n",
        "  {\n",
        "    \"constant\": true,\n",
        "    \"inputs\": [],\n",
        "    \"name\": \"totalSupply\",\n",
        "    \"outputs\": [\n",
        "      {\n",
        "        \"name\": \"\",\n",
        "        \"type\": \"uint256\"\n",
        "      }\n",
        "    ],\n",
        "    \"payable\": false,\n",
        "    \"stateMutability\": \"view\",\n",
        "    \"type\": \"function\"\n",
        "  },\n",
        "  {\n",
        "    \"constant\": false,\n",
        "    \"inputs\": [\n",
        "      {\n",
        "        \"name\": \"_from\",\n",
        "        \"type\": \"address\"\n",
        "      },\n",
        "      {\n",
        "        \"name\": \"_to\",\n",
        "        \"type\": \"address\"\n",
        "      },\n",
        "      {\n",
        "        \"name\": \"_value\",\n",
        "        \"type\": \"uint256\"\n",
        "      }\n",
        "    ],\n",
        "    \"name\": \"transferFrom\",\n",
        "    \"outputs\": [\n",
        "      {\n",
        "        \"name\": \"\",\n",
        "        \"type\": \"bool\"\n",
        "      }\n",
        "    ],\n",
        "    \"payable\": false,\n",
        "    \"stateMutability\": \"nonpayable\",\n",
        "    \"type\": \"function\"\n",
        "  },\n",
        "  {\n",
        "    \"constant\": true,\n",
        "    \"inputs\": [],\n",
        "    \"name\": \"decimals\",\n",
        "    \"outputs\": [\n",
        "      {\n",
        "        \"name\": \"\",\n",
        "        \"type\": \"uint8\"\n",
        "      }\n",
        "    ],\n",
        "    \"payable\": false,\n",
        "    \"stateMutability\": \"view\",\n",
        "    \"type\": \"function\"\n",
        "  },\n",
        "  {\n",
        "    \"constant\": true,\n",
        "    \"inputs\": [\n",
        "      {\n",
        "        \"name\": \"_owner\",\n",
        "        \"type\": \"address\"\n",
        "      }\n",
        "    ],\n",
        "    \"name\": \"balanceOf\",\n",
        "    \"outputs\": [\n",
        "      {\n",
        "        \"name\": \"balance\",\n",
        "        \"type\": \"uint256\"\n",
        "      }\n",
        "    ],\n",
        "    \"payable\": false,\n",
        "    \"stateMutability\": \"view\",\n",
        "    \"type\": \"function\"\n",
        "  },\n",
        "  {\n",
        "    \"constant\": true,\n",
        "    \"inputs\": [],\n",
        "    \"name\": \"symbol\",\n",
        "    \"outputs\": [\n",
        "      {\n",
        "        \"name\": \"\",\n",
        "        \"type\": \"string\"\n",
        "      }\n",
        "    ],\n",
        "    \"payable\": false,\n",
        "    \"stateMutability\": \"view\",\n",
        "    \"type\": \"function\"\n",
        "  },\n",
        "  {\n",
        "    \"constant\": false,\n",
        "    \"inputs\": [\n",
        "      {\n",
        "        \"name\": \"_to\",\n",
        "        \"type\": \"address\"\n",
        "      },\n",
        "      {\n",
        "        \"name\": \"_value\",\n",
        "        \"type\": \"uint256\"\n",
        "      }\n",
        "    ],\n",
        "    \"name\": \"transfer\",\n",
        "    \"outputs\": [\n",
        "      {\n",
        "        \"name\": \"\",\n",
        "        \"type\": \"bool\"\n",
        "      }\n",
        "    ],\n",
        "    \"payable\": false,\n",
        "    \"stateMutability\": \"nonpayable\",\n",
        "    \"type\": \"function\"\n",
        "  },\n",
        "  {\n",
        "    \"constant\": true,\n",
        "    \"inputs\": [\n",
        "      {\n",
        "        \"name\": \"_owner\",\n",
        "        \"type\": \"address\"\n",
        "      },\n",
        "      {\n",
        "        \"name\": \"_spender\",\n",
        "        \"type\": \"address\"\n",
        "      }\n",
        "    ],\n",
        "    \"name\": \"allowance\",\n",
        "    \"outputs\": [\n",
        "      {\n",
        "        \"name\": \"\",\n",
        "        \"type\": \"uint256\"\n",
        "      }\n",
        "    ],\n",
        "    \"payable\": false,\n",
        "    \"stateMutability\": \"view\",\n",
        "    \"type\": \"function\"\n",
        "  },\n",
        "  {\n",
        "    \"payable\": true,\n",
        "    \"stateMutability\": \"payable\",\n",
        "    \"type\": \"fallback\"\n",
        "  },\n",
        "  {\n",
        "    \"anonymous\": false,\n",
        "    \"inputs\": [\n",
        "      {\n",
        "        \"indexed\": true,\n",
        "        \"name\": \"owner\",\n",
        "        \"type\": \"address\"\n",
        "      },\n",
        "      {\n",
        "        \"indexed\": true,\n",
        "        \"name\": \"spender\",\n",
        "        \"type\": \"address\"\n",
        "      },\n",
        "      {\n",
        "        \"indexed\": false,\n",
        "        \"name\": \"value\",\n",
        "        \"type\": \"uint256\"\n",
        "      }\n",
        "    ],\n",
        "    \"name\": \"Approval\",\n",
        "    \"type\": \"event\"\n",
        "  },\n",
        "  {\n",
        "    \"anonymous\": false,\n",
        "    \"inputs\": [\n",
        "      {\n",
        "        \"indexed\": true,\n",
        "        \"name\": \"from\",\n",
        "        \"type\": \"address\"\n",
        "      },\n",
        "      {\n",
        "        \"indexed\": true,\n",
        "        \"name\": \"to\",\n",
        "        \"type\": \"address\"\n",
        "      },\n",
        "      {\n",
        "        \"indexed\": false,\n",
        "        \"name\": \"value\",\n",
        "        \"type\": \"uint256\"\n",
        "      }\n",
        "    ],\n",
        "    \"name\": \"Transfer\",\n",
        "    \"type\": \"event\"\n",
        "  }\n",
        "]\n",
        "\"\"\"\n",
        "\n",
        "# Convert the JSON string to a Python dictionary\n",
        "erc20Abi = json.loads(json_string)"
      ],
      "metadata": {
        "id": "qPo4cbTNwt9I"
      },
      "execution_count": 18,
      "outputs": []
    },
    {
      "cell_type": "code",
      "source": [
        "# Load the ERC20 contract ABI\n",
        "abi = erc20Abi\n",
        "\n",
        "# Create an instance of the ERC20 contract\n",
        "contract_address = erc20_address  # Replace with the ERC20 contract address\n",
        "contract = w3.eth.contract(address=contract_address, abi=abi)\n",
        "\n",
        "# Get the balance of a specific address\n",
        "balance = contract.functions.balanceOf(address).call()\n",
        "\n",
        "# Print the balance\n",
        "print(f'The balance of address {address} is {format_ether_balance(balance)} eth')"
      ],
      "metadata": {
        "colab": {
          "base_uri": "https://localhost:8080/"
        },
        "id": "PLw6uA4owUjU",
        "outputId": "24535095-a7fc-4736-daf4-190e88fc35b6"
      },
      "execution_count": 43,
      "outputs": [
        {
          "output_type": "stream",
          "name": "stdout",
          "text": [
            "The balance of address 0xD4d349C87906dF5e42e33f8f6c4dABfe247af0Cf is 0.00 eth\n"
          ]
        }
      ]
    },
    {
      "cell_type": "code",
      "source": [
        "from eth_abi import decode\n",
        "# encode abi\n",
        "data = contract.encode_abi(\"balanceOf\",[\"0xD4fA4dE9D8F8DB39EAf4de9A19bF6910F6B5bD60\"])\n",
        "# data = contract.encode_abi(\"balanceOf\",[\"0xD4fA4dE9D8F8DB39EAf4de9A19bF6910F6B5bD60\"])\n",
        "# data = contract.encode_abi(\"balanceOf\",[\"0xD4fA4dE9D8F8DB39EAf4de9A19bF6910F6B5bD60\"])\n",
        "\n",
        "print(data)\n",
        "\n",
        "result = w3.eth.call(\n",
        "        {\n",
        "            \"to\": erc20_address,\n",
        "            \"data\": data,\n",
        "        }\n",
        "    )\n",
        "\n",
        "print(result)\n",
        "\n",
        "# decode abi\n",
        "decoded = w3.to_hex(result)\n",
        "\n",
        "print(decoded)\n",
        "\n",
        "decoded_result = decode([\"uint256\"],result)\n",
        "\n",
        "print(decoded_result[0])"
      ],
      "metadata": {
        "colab": {
          "base_uri": "https://localhost:8080/"
        },
        "id": "pm_7MXfv3N_U",
        "outputId": "63946ba6-03a3-42d9-fcbd-6379519c21c8"
      },
      "execution_count": 61,
      "outputs": [
        {
          "output_type": "stream",
          "name": "stdout",
          "text": [
            "0x70a08231000000000000000000000000d4fa4de9d8f8db39eaf4de9a19bf6910f6b5bd60\n",
            "b'\\x00\\x00\\x00\\x00\\x00\\x00\\x00\\x00\\x00\\x00\\x00\\x00\\x00\\x00\\x00\\x00\\x00\\x00\\x00\\x00\\x00\\x00\\x00\\x00\\x00\\x00\\x00\\x00\\x00\\x00\\x00\\x00'\n",
            "0x0000000000000000000000000000000000000000000000000000000000000000\n",
            "0\n"
          ]
        }
      ]
    }
  ]
}